{
 "cells": [
  {
   "cell_type": "code",
   "execution_count": 1,
   "id": "839d2018",
   "metadata": {},
   "outputs": [],
   "source": [
    "import pandas as pd"
   ]
  },
  {
   "cell_type": "markdown",
   "id": "2b9a1703",
   "metadata": {},
   "source": [
    "# Scrape Mars Data: The News   .....................  Mod 10.3.3\n",
    "\n",
    "Automate visiting a website to scrape the top (most recent) news article's Title and Summary."
   ]
  },
  {
   "cell_type": "code",
   "execution_count": 2,
   "id": "4c4f360b",
   "metadata": {},
   "outputs": [],
   "source": [
    "# Import Splinter and BeautifulSoup                                            \n",
    "\n",
    "from splinter import Browser\n",
    "from bs4 import BeautifulSoup as soup       \n",
    "    # using an alias, \"soup,\" to simplify our code a bit \n",
    "from webdriver_manager.chrome import ChromeDriverManager"
   ]
  },
  {
   "cell_type": "code",
   "execution_count": 3,
   "id": "833de6af",
   "metadata": {},
   "outputs": [
    {
     "name": "stderr",
     "output_type": "stream",
     "text": [
      "\n",
      "\n",
      "====== WebDriver manager ======\n",
      "Current google-chrome version is 97.0.4692\n",
      "Get LATEST chromedriver version for 97.0.4692 google-chrome\n",
      "Driver [C:\\Users\\c-hol\\.wdm\\drivers\\chromedriver\\win32\\97.0.4692.71\\chromedriver.exe] found in cache\n"
     ]
    }
   ],
   "source": [
    "# Set up an instance of a Splinter browser\n",
    "\n",
    "executable_path = {'executable_path': ChromeDriverManager().install()}   \n",
    "    # Chrome as our browser\n",
    "browser = Browser('chrome', **executable_path, headless=False)     \n",
    "    # browser's actions will be displayed in a Chrome window"
   ]
  },
  {
   "cell_type": "code",
   "execution_count": 4,
   "id": "76d0d740",
   "metadata": {},
   "outputs": [
    {
     "data": {
      "text/plain": [
       "True"
      ]
     },
     "execution_count": 4,
     "metadata": {},
     "output_type": "execute_result"
    }
   ],
   "source": [
    "# Visit the website\n",
    "\n",
    "url = 'https://redplanetscience.com'\n",
    "browser.visit(url)\n",
    "    # Run this code to make sure it's working correctly. \n",
    "    # A new automated browser should open to the featured images webpage.\n",
    "\n",
    "browser.is_element_present_by_css('div.list_text', wait_time=1)\n",
    "    # Optional delay for loading the page\n",
    "    # searching for elements with a specific combination of tag (div) and attribute (list_text)\n",
    "    # \"Browser, wait a second before searching for components.\" \n",
    "    # (useful for dynamic pages that take a little while to load)"
   ]
  },
  {
   "cell_type": "code",
   "execution_count": 5,
   "id": "e69d0cea",
   "metadata": {},
   "outputs": [
    {
     "data": {
      "text/plain": [
       "<div class=\"list_text\">\n",
       "<div class=\"list_date\">February 4, 2022</div>\n",
       "<div class=\"content_title\">NASA Invites Students to Name Mars 2020 Rover</div>\n",
       "<div class=\"article_teaser_body\">Through Nov. 1, K-12 students in the U.S. are encouraged to enter an essay contest to name NASA's next Mars rover.</div>\n",
       "</div>"
      ]
     },
     "execution_count": 5,
     "metadata": {},
     "output_type": "execute_result"
    }
   ],
   "source": [
    "# Set up the HTML parser:\n",
    "\n",
    "html = browser.html\n",
    "news_soup = soup(html, 'html.parser')\n",
    "    # use BeautifulSoup to parse the HTML (...text and then stores it as an object)\n",
    "\n",
    "slide_elem = news_soup.select_one('div.list_text')\n",
    "    # assign slide_elem to look for the <div /> tag and other tags in the <div /> element\n",
    "    # . is used for selecting classes, such as list_text \n",
    "    # div.list_text pinpoints the <div /> tag with the class of list_text\n",
    "\n",
    "slide_elem"
   ]
  },
  {
   "cell_type": "code",
   "execution_count": 6,
   "id": "50048a7b",
   "metadata": {},
   "outputs": [
    {
     "data": {
      "text/plain": [
       "<div class=\"content_title\">NASA Invites Students to Name Mars 2020 Rover</div>"
      ]
     },
     "execution_count": 6,
     "metadata": {},
     "output_type": "execute_result"
    }
   ],
   "source": [
    "# Assign the title and summary text to variables we'll reference later\n",
    "\n",
    "slide_elem.find('div', class_='content_title')\n",
    "    # chained .find to slide_elem to find THIS SPECIFC data (content title) in the ton of data\n",
    "    # content title is in a <div> with class of 'content_title'"
   ]
  },
  {
   "cell_type": "code",
   "execution_count": 7,
   "id": "da40b8e5",
   "metadata": {},
   "outputs": [
    {
     "data": {
      "text/plain": [
       "'NASA Invites Students to Name Mars 2020 Rover'"
      ]
     },
     "execution_count": 7,
     "metadata": {},
     "output_type": "execute_result"
    }
   ],
   "source": [
    "# Use the parent element to find the first `a` tag and save it as `news_title`\n",
    "\n",
    "news_title = slide_elem.find('div', class_='content_title').get_text()\n",
    "    # when .get_text() is chained to .find(), only the text of the element is returned\n",
    "\n",
    "news_title\n",
    "\n",
    "            # THE RESULT IS THE MOST RECENT TITLE PUBLISHED ON THE WEBSITE"
   ]
  },
  {
   "cell_type": "code",
   "execution_count": 8,
   "id": "5ce60ba5",
   "metadata": {},
   "outputs": [
    {
     "data": {
      "text/plain": [
       "\"Through Nov. 1, K-12 students in the U.S. are encouraged to enter an essay contest to name NASA's next Mars rover.\""
      ]
     },
     "execution_count": 8,
     "metadata": {},
     "output_type": "execute_result"
    }
   ],
   "source": [
    "# Get the same thing, but Summary instead of Title\n",
    "\n",
    "news_p = slide_elem.find('div', class_='article_teaser_body').get_text()\n",
    "\n",
    "news_p"
   ]
  },
  {
   "cell_type": "markdown",
   "id": "c211f983",
   "metadata": {},
   "source": [
    "# Scrape Mars Data: Featured Image  ...............  Mod 10.3.4\n",
    "\n",
    "Always pull the full-size featured image: Automate visiting a website, navigating through it, finding the full-size image, extracted a link based on its location on the page."
   ]
  },
  {
   "cell_type": "code",
   "execution_count": 9,
   "id": "df961f50",
   "metadata": {},
   "outputs": [],
   "source": [
    "# Visit URL\n",
    "\n",
    "url = 'https://spaceimages-mars.com'\n",
    "browser.visit(url)"
   ]
  },
  {
   "cell_type": "code",
   "execution_count": 10,
   "id": "ac09c893",
   "metadata": {},
   "outputs": [],
   "source": [
    "# Find and click the full image button\n",
    "\n",
    "full_image_elem = browser.find_by_tag('button')[1]\n",
    "    # new variable to hold the scraping result = the browser finds an element by it's tag\n",
    "    # [1] = indexed to click the second button (ie. 0, 1, 2, etc.; #1 is the second indexed)\n",
    "\n",
    "full_image_elem.click()                                \n",
    "    # click the image to view it's size"
   ]
  },
  {
   "cell_type": "code",
   "execution_count": 11,
   "id": "1aeba7d1",
   "metadata": {},
   "outputs": [],
   "source": [
    "# Parse the resulting html with soup\n",
    "\n",
    "html = browser.html\n",
    "img_soup = soup(html, 'html.parser')"
   ]
  },
  {
   "cell_type": "code",
   "execution_count": 12,
   "id": "b3e54693",
   "metadata": {},
   "outputs": [
    {
     "data": {
      "text/plain": [
       "'image/featured/mars2.jpg'"
      ]
     },
     "execution_count": 12,
     "metadata": {},
     "output_type": "execute_result"
    }
   ],
   "source": [
    "# Find the relative image url\n",
    "\n",
    "img_url_rel = img_soup.find('img', class_='fancybox-image').get('src')\n",
    "    # \"This is where the image we want lives—use the link that's inside these tags.\"\n",
    "    # Hey BeautifulSoup, look inside the <img /> tag for an image with a class of fancybox-image\n",
    "    # An img tag is nested within this HTML, so we've included it.\n",
    "    # .get('src') pulls the link to the image.\n",
    "\n",
    "img_url_rel"
   ]
  },
  {
   "cell_type": "code",
   "execution_count": 13,
   "id": "202b8807",
   "metadata": {},
   "outputs": [
    {
     "data": {
      "text/plain": [
       "'https://spaceimages-mars.com/image/featured/mars2.jpg'"
      ]
     },
     "execution_count": 13,
     "metadata": {},
     "output_type": "execute_result"
    }
   ],
   "source": [
    "# Add the base URL to create an full URL\n",
    "\n",
    "img_url = f'https://spaceimages-mars.com/{img_url_rel}'\n",
    "    # img_url = holds our f-string.\n",
    "    # f'___ = f-string to print statements in Python.\n",
    "    # { } = hold a variable that will be inserted into the f-string when it's executed.\n",
    "\n",
    "img_url"
   ]
  },
  {
   "cell_type": "markdown",
   "id": "e60d6fcb",
   "metadata": {},
   "source": [
    "# Scrape Mars Data: Mars Facts .............................  Mod 10.3.5"
   ]
  },
  {
   "cell_type": "code",
   "execution_count": 14,
   "id": "d174d41f",
   "metadata": {},
   "outputs": [],
   "source": [
    "# Visit URL\n",
    "\n",
    "url = 'https://galaxyfacts-mars.com/'\n",
    "browser.visit(url)"
   ]
  },
  {
   "cell_type": "code",
   "execution_count": 15,
   "id": "2d4d7e58",
   "metadata": {},
   "outputs": [],
   "source": [
    "# At the top of your Jupyter Notebook, add import pandas as pd"
   ]
  },
  {
   "cell_type": "code",
   "execution_count": 16,
   "id": "c1fa1a4d",
   "metadata": {},
   "outputs": [
    {
     "data": {
      "text/html": [
       "<div>\n",
       "<style scoped>\n",
       "    .dataframe tbody tr th:only-of-type {\n",
       "        vertical-align: middle;\n",
       "    }\n",
       "\n",
       "    .dataframe tbody tr th {\n",
       "        vertical-align: top;\n",
       "    }\n",
       "\n",
       "    .dataframe thead th {\n",
       "        text-align: right;\n",
       "    }\n",
       "</style>\n",
       "<table border=\"1\" class=\"dataframe\">\n",
       "  <thead>\n",
       "    <tr style=\"text-align: right;\">\n",
       "      <th></th>\n",
       "      <th>Mars</th>\n",
       "      <th>Earth</th>\n",
       "    </tr>\n",
       "    <tr>\n",
       "      <th>description</th>\n",
       "      <th></th>\n",
       "      <th></th>\n",
       "    </tr>\n",
       "  </thead>\n",
       "  <tbody>\n",
       "    <tr>\n",
       "      <th>Mars - Earth Comparison</th>\n",
       "      <td>Mars</td>\n",
       "      <td>Earth</td>\n",
       "    </tr>\n",
       "    <tr>\n",
       "      <th>Diameter:</th>\n",
       "      <td>6,779 km</td>\n",
       "      <td>12,742 km</td>\n",
       "    </tr>\n",
       "    <tr>\n",
       "      <th>Mass:</th>\n",
       "      <td>6.39 × 10^23 kg</td>\n",
       "      <td>5.97 × 10^24 kg</td>\n",
       "    </tr>\n",
       "    <tr>\n",
       "      <th>Moons:</th>\n",
       "      <td>2</td>\n",
       "      <td>1</td>\n",
       "    </tr>\n",
       "    <tr>\n",
       "      <th>Distance from Sun:</th>\n",
       "      <td>227,943,824 km</td>\n",
       "      <td>149,598,262 km</td>\n",
       "    </tr>\n",
       "    <tr>\n",
       "      <th>Length of Year:</th>\n",
       "      <td>687 Earth days</td>\n",
       "      <td>365.24 days</td>\n",
       "    </tr>\n",
       "    <tr>\n",
       "      <th>Temperature:</th>\n",
       "      <td>-87 to -5 °C</td>\n",
       "      <td>-88 to 58°C</td>\n",
       "    </tr>\n",
       "  </tbody>\n",
       "</table>\n",
       "</div>"
      ],
      "text/plain": [
       "                                    Mars            Earth\n",
       "description                                              \n",
       "Mars - Earth Comparison             Mars            Earth\n",
       "Diameter:                       6,779 km        12,742 km\n",
       "Mass:                    6.39 × 10^23 kg  5.97 × 10^24 kg\n",
       "Moons:                                 2                1\n",
       "Distance from Sun:        227,943,824 km   149,598,262 km\n",
       "Length of Year:           687 Earth days      365.24 days\n",
       "Temperature:                -87 to -5 °C      -88 to 58°C"
      ]
     },
     "execution_count": 16,
     "metadata": {},
     "output_type": "execute_result"
    }
   ],
   "source": [
    "# scrape the entire table with Pandas' .read_html() function\n",
    "\n",
    "df = pd.read_html('https://galaxyfacts-mars.com')[0]\n",
    "    # creating a new DataFrame from the HTML table\n",
    "    # read_html() = specifically searches for and returns a list of tables found in the HTML\n",
    "    # an index of 0 = tells Pandas to pull only the 1st table/item it encounters/in the list\n",
    "    # turns the table into a DataFrame\n",
    "    \n",
    "df.columns=['description', 'Mars', 'Earth']\n",
    "    # assign columns to the new DataFrame for additional clarity\n",
    "    \n",
    "df.set_index('description', inplace=True)\n",
    "    # .set_index() = turns the Description column into the DataFrame's index\n",
    "    # inplace=True = the updated index will remain in place, \n",
    "    # won't have to reassign the DataFrame to a new variable\n",
    "    \n",
    "df"
   ]
  },
  {
   "cell_type": "code",
   "execution_count": 17,
   "id": "9022a539",
   "metadata": {},
   "outputs": [
    {
     "data": {
      "text/plain": [
       "'<table border=\"1\" class=\"dataframe\">\\n  <thead>\\n    <tr style=\"text-align: right;\">\\n      <th></th>\\n      <th>Mars</th>\\n      <th>Earth</th>\\n    </tr>\\n    <tr>\\n      <th>description</th>\\n      <th></th>\\n      <th></th>\\n    </tr>\\n  </thead>\\n  <tbody>\\n    <tr>\\n      <th>Mars - Earth Comparison</th>\\n      <td>Mars</td>\\n      <td>Earth</td>\\n    </tr>\\n    <tr>\\n      <th>Diameter:</th>\\n      <td>6,779 km</td>\\n      <td>12,742 km</td>\\n    </tr>\\n    <tr>\\n      <th>Mass:</th>\\n      <td>6.39 × 10^23 kg</td>\\n      <td>5.97 × 10^24 kg</td>\\n    </tr>\\n    <tr>\\n      <th>Moons:</th>\\n      <td>2</td>\\n      <td>1</td>\\n    </tr>\\n    <tr>\\n      <th>Distance from Sun:</th>\\n      <td>227,943,824 km</td>\\n      <td>149,598,262 km</td>\\n    </tr>\\n    <tr>\\n      <th>Length of Year:</th>\\n      <td>687 Earth days</td>\\n      <td>365.24 days</td>\\n    </tr>\\n    <tr>\\n      <th>Temperature:</th>\\n      <td>-87 to -5 °C</td>\\n      <td>-88 to 58°C</td>\\n    </tr>\\n  </tbody>\\n</table>'"
      ]
     },
     "execution_count": 17,
     "metadata": {},
     "output_type": "execute_result"
    }
   ],
   "source": [
    "# Turn the table into HTML\n",
    "\n",
    "df.to_html()"
   ]
  },
  {
   "cell_type": "code",
   "execution_count": 18,
   "id": "1f966e2f",
   "metadata": {},
   "outputs": [],
   "source": [
    "# Close down the website (like turning out the lights when leaving a room)\n",
    "\n",
    "browser.quit()"
   ]
  }
 ],
 "metadata": {
  "kernelspec": {
   "display_name": "PythonData",
   "language": "python",
   "name": "pythondata"
  },
  "language_info": {
   "codemirror_mode": {
    "name": "ipython",
    "version": 3
   },
   "file_extension": ".py",
   "mimetype": "text/x-python",
   "name": "python",
   "nbconvert_exporter": "python",
   "pygments_lexer": "ipython3",
   "version": "3.6.7"
  }
 },
 "nbformat": 4,
 "nbformat_minor": 5
}
